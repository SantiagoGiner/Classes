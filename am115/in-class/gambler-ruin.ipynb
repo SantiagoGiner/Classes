{
 "cells": [
  {
   "cell_type": "code",
   "execution_count": 33,
   "id": "4e6d2148-3cdc-493a-8edb-cc3583d9c9c8",
   "metadata": {},
   "outputs": [],
   "source": [
    "def n_steps_to_state(init, finalp=0.5):\n",
    "    Q = np.array([\n",
    "        [1, 1 - p, 0, 0, 0],\n",
    "        [0, 0, 1 - p, 0, 0],\n",
    "        [0, p, 0, 1 - p, 0],\n",
    "        [0, 0, p, 0, 0],\n",
    "        [0, 0, 0, p, 1]\n",
    "    ])\n",
    "    curr_state = init\n",
    "    n_steps = 0\n",
    "    while curr_state not in [0, 4]:\n",
    "        r = np.random.rand()\n",
    "        prob = 0\n",
    "        for i in range(Q.shape[0]):\n",
    "            prob += Q[i][curr_state]\n",
    "            if r < prob:\n",
    "                curr_state = i\n",
    "                break\n",
    "        n_steps += 1\n",
    "    return n_steps"
   ]
  },
  {
   "cell_type": "code",
   "execution_count": 34,
   "id": "36f6c8e3-ceb1-47d6-871e-41e5820e4063",
   "metadata": {},
   "outputs": [
    {
     "data": {
      "text/plain": [
       "[0.0, 2.9956, 4.0344, 2.9966, 0.0]"
      ]
     },
     "execution_count": 34,
     "metadata": {},
     "output_type": "execute_result"
    }
   ],
   "source": [
    "avg_steps = [np.mean([n_steps_to_absorb(i) for _ in range(10000)]) for i in range(5)]\n",
    "avg_steps"
   ]
  }
 ],
 "metadata": {
  "kernelspec": {
   "display_name": "Python 3 (ipykernel)",
   "language": "python",
   "name": "python3"
  },
  "language_info": {
   "codemirror_mode": {
    "name": "ipython",
    "version": 3
   },
   "file_extension": ".py",
   "mimetype": "text/x-python",
   "name": "python",
   "nbconvert_exporter": "python",
   "pygments_lexer": "ipython3",
   "version": "3.10.9"
  }
 },
 "nbformat": 4,
 "nbformat_minor": 5
}
