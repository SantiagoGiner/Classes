{
 "cells": [
  {
   "cell_type": "markdown",
   "id": "e451e374-9c1d-4275-b09d-8ee1ac05a8d6",
   "metadata": {},
   "source": [
    "# Old"
   ]
  },
  {
   "cell_type": "markdown",
   "id": "463a64d1-4d37-4c8a-b2d4-91c1cd85aa5e",
   "metadata": {},
   "source": [
    "The critical points satisfy $dT/dt = 0.$ We will solve this equation for every interval that defined the albedo $\\alpha(T).$\n",
    "\n",
    "<ul>\n",
    "    <li> $T > 273$: $T_1 = \\left(\\frac{0.4 S_0}{4\\sigma}\\right)^{1/4} \\approx \\boxed{249.6 \\text{ K}.}$ </li>\n",
    "    <li> \n",
    "        $263 \\leq T \\leq 273$: Here we get the equation\n",
    "        $$-\\frac{7.19 S_0}{4} + \\frac{0.03 S_0}{4} T - \\sigma T^4 = 0,$$\n",
    "        which we solve numerically below to obtain $\\boxed{T_2 \\approx 267.2 \\text{ K}.}$\n",
    "    </li>\n",
    "    <li> $T > 273$: $T_2 = \\left(\\frac{0.7 S_0}{4\\sigma}\\right)^{1/4} \\approx \\boxed{287.1 \\text{ K}.}$ </li>\n",
    "</ul>"
   ]
  },
  {
   "cell_type": "code",
   "execution_count": 49,
   "id": "30e2d653-71ad-4f3d-ad64-132e9f4d6577",
   "metadata": {},
   "outputs": [
    {
     "name": "stdout",
     "output_type": "stream",
     "text": [
      "First critical point: 249.5800718944141\n",
      "Second critical point: 267.1770534076679\n",
      "Third critical point: 287.0578433211224\n"
     ]
    }
   ],
   "source": [
    "from scipy.optimize import root\n",
    "\n",
    "f = lambda t: -7.49 * S0 / 4 + (0.03 * S0 / 4) * t - sigma * t**4\n",
    "\n",
    "t1 = ((1 - 0.6) * S0 / (4 * sigma))**(1/4)\n",
    "t2 = root(f, 270).x[0]\n",
    "t3 = ((1 - 0.3) * S0 / (4 * sigma))**(1/4)\n",
    "\n",
    "print(f\"First critical point: {t1}\")\n",
    "print(f\"Second critical point: {t2}\")\n",
    "print(f\"Third critical point: {t3}\")"
   ]
  },
  {
   "cell_type": "markdown",
   "id": "205633b3-81ec-4730-a430-2da9680b0c59",
   "metadata": {},
   "source": [
    "Now, to determine the stability of each of these points, we will perform the second derivative test. Note that\n",
    "\n",
    "$$\\frac{d^2T}{dt^2} = -\\frac{1}{H}\\left(\\frac{S_0}{4}\\frac{d\\alpha}{dt} + 4\\sigma T^3\\frac{dT}{dt}\\right).$$\n",
    "\n",
    "For $T > 273$ or $T < 263,$ $\\alpha$ is a constant and therefore $d\\alpha/dt = 0.$ Hence, for $T_1, T_3,$ we must evaluate the quantity\n",
    "\n",
    "$$\\frac{d^2T}{dt^2} = -\\frac{4\\sigma T^3}{H}\\frac{dT}{dt} \\text{ for } T > 273 \\text{ or } T < 263,$$\n",
    "\n",
    "which we evaluate below.\n",
    "\n",
    "And for $263 \\leq T \\leq 273,$ we have $d\\alpha/dt = -0.03,T$ and so in this range,\n",
    "\n",
    "$$\\frac{d^2T}{dt^2} = -\\frac{1}{H}\\left(-0.03 T + 4\\sigma T^3\\frac{dT}{dt}\\right) \\text{ for } 263 \\leq T \\leq 273,$$\n",
    "\n",
    "which we also evaluate below, to check whether it is positive or negative at $T_2.$"
   ]
  },
  {
   "cell_type": "code",
   "execution_count": 68,
   "id": "cb75c328-f517-464f-b56d-c4e310c7026e",
   "metadata": {},
   "outputs": [
    {
     "name": "stdout",
     "output_type": "stream",
     "text": [
      "Second derivative at T_1: 1.0021274578900109e-29\n",
      "Second derivative at T_2: 8.015311602230037e-08\n",
      "Second derivative at T_3: 9.148560168173226e-29\n"
     ]
    }
   ],
   "source": [
    "test_outside = lambda T: -4 * sigma * T**3 * dT_dt(T , S0) / H\n",
    "test_inside = lambda T: -(-0.03 * T + 4 * sigma * T**3 * dT_dt(T, S0)) / H\n",
    "\n",
    "print(f\"Second derivative at T_1: {test_outside(t1)}\")\n",
    "print(f\"Second derivative at T_2: {test_inside(t2)}\")\n",
    "print(f\"Second derivative at T_3: {test_outside(t3)}\")"
   ]
  }
 ],
 "metadata": {
  "kernelspec": {
   "display_name": "Python 3 (ipykernel)",
   "language": "python",
   "name": "python3"
  },
  "language_info": {
   "codemirror_mode": {
    "name": "ipython",
    "version": 3
   },
   "file_extension": ".py",
   "mimetype": "text/x-python",
   "name": "python",
   "nbconvert_exporter": "python",
   "pygments_lexer": "ipython3",
   "version": "3.10.9"
  }
 },
 "nbformat": 4,
 "nbformat_minor": 5
}
