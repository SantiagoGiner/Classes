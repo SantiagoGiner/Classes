{
 "cells": [
  {
   "cell_type": "code",
   "execution_count": 13,
   "id": "f67610d3-ec89-487b-8b13-656cd85d9751",
   "metadata": {
    "id": "ZW_12kik6CL_"
   },
   "outputs": [],
   "source": [
    "# Import necessary libraries\n",
    "import numpy as np\n",
    "import matplotlib.pyplot as plt\n",
    "from scipy.integrate import solve_ivp"
   ]
  },
  {
   "cell_type": "code",
   "execution_count": 14,
   "id": "1c4e1e4a-a716-4cb9-bfb6-13c2c9cc75fa",
   "metadata": {},
   "outputs": [],
   "source": [
    "''' Matplotlib customization, from class '''\n",
    "# Customize for matplotlib\n",
    "# If interested in the matplotlib object hierarchy, check: https://realpython.com/python-matplotlib-guide/\n",
    "plt.rcParams['axes.linewidth'] = 1\n",
    "plt.rcParams['xtick.bottom'] = True\n",
    "plt.rcParams['ytick.left'] = True\n",
    "plt.rcParams['xtick.direction'] = 'in'\n",
    "plt.rcParams['ytick.direction'] = 'in'\n",
    "plt.rcParams['mathtext.default'] = 'regular'\n",
    "# Change font size: http://www.futurile.net/2016/02/27/matplotlib-beautiful-plots-with-style/\n",
    "plt.rcParams['font.size'] = 12\n",
    "plt.rcParams['axes.labelsize'] = 12\n",
    "# plt.rcParams['axes.labelweight'] = 'bold'\n",
    "plt.rcParams['xtick.labelsize'] = 12\n",
    "plt.rcParams['ytick.labelsize'] = 12\n",
    "plt.rcParams['legend.fontsize'] = 14\n",
    "plt.rcParams['figure.titlesize'] = 20\n",
    "plt.rcParams['legend.fontsize'] = 12"
   ]
  },
  {
   "cell_type": "markdown",
   "id": "a4eafe94-dc7f-493b-87a6-905dc18fb734",
   "metadata": {},
   "source": [
    "## 0.2. Unit Conversions"
   ]
  },
  {
   "cell_type": "code",
   "execution_count": 6,
   "id": "47518dec-03a8-4d1d-b5d3-0bd5016a2d70",
   "metadata": {},
   "outputs": [],
   "source": [
    "# Conversion between kcal and MJ\n",
    "MJ_per_kcal = 1 / 239\n",
    "kcal_to_MJ = lambda kcal: kcal * MJ_per_kcal\n",
    "\n",
    "# Conversion between MJ and kcal\n",
    "MJ_to_kcal = lambda MJ: MJ / MJ_per_kcal\n",
    "\n",
    "# Conversion b.w. mL of O2 burned and Megajoules (MJ)\n",
    "liter_per_mL = 1 / 1000\n",
    "kcal_per_liter = 4.7\n",
    "\n",
    "# Define a function to convert volume (mL) of O2 burned to MJ\n",
    "VO2_to_MJ = lambda mL: mL * liter_per_mL * kcal_to_MJ(kcal_per_liter)"
   ]
  },
  {
   "cell_type": "markdown",
   "id": "39d7da5c-18fc-45a2-ae7f-93eb77dc4866",
   "metadata": {},
   "source": [
    "## 0.3. Constants of the Model"
   ]
  },
  {
   "cell_type": "code",
   "execution_count": 10,
   "id": "84155f47-e08c-4d98-adf0-2c2acfe0d202",
   "metadata": {},
   "outputs": [],
   "source": [
    "# Energy density  [MJ / kg] of lean and fat mass\n",
    "rho_L, rho_F = 7.6, 39.5\n",
    "\n",
    "# Lean and fat mass of individual [kg]\n",
    "# Assuming total mass of 80 kg with 20% body fat\n",
    "vals0 = [64, 16]\n",
    "\n",
    "# VO2_max → maximal oxygen uptake by muscles [mL/kg/min]\n",
    "VO2_max = 40"
   ]
  },
  {
   "cell_type": "code",
   "execution_count": 22,
   "id": "ffd1886e-215e-42ad-b1a3-74cc7bc82222",
   "metadata": {},
   "outputs": [],
   "source": [
    "# Defining the differential equations of the model\n",
    "def deriv(t, pVO2m, u):\n",
    "    ut = u(t)\n",
    "    return -0.8 * pVO2m + 0.8 * ut"
   ]
  },
  {
   "cell_type": "code",
   "execution_count": 23,
   "id": "d33b7083-1a06-4de1-9b47-66973fac07a8",
   "metadata": {},
   "outputs": [],
   "source": [
    "# Exercise intensity [ml/kg/min]\n",
    "u = lambda t: 0.4 + 0.4 / 60 * t\n",
    "\n",
    "# Starting exercise intensity [ml/kg/min]\n",
    "pVO2m_ini = [0]\n",
    "\n",
    "# Time to integrate over [day]\n",
    "t = [0, 60]\n",
    "t_eval = np.linspace(t[0], t[1], 300)\n",
    "\n",
    "# Solve the system of differential equations\n",
    "sol = solve_ivp(deriv, t, pVO2m_ini, args=[u], t_eval=t_eval)"
   ]
  },
  {
   "cell_type": "code",
   "execution_count": 24,
   "id": "14d19e12-396b-4568-8310-2a47b159a28e",
   "metadata": {},
   "outputs": [
    {
     "data": {
      "image/png": "[encoded data removed]",
      "text/plain": [
       "<Figure size 600x400 with 1 Axes>"
      ]
     },
     "metadata": {},
     "output_type": "display_data"
    }
   ],
   "source": [
    "fig, ax = plt.subplots(1, 1, figsize=(6, 4))\n",
    "ax.plot(sol.t, sol.y[0])\n",
    "plt.show()"
   ]
  },
  {
   "cell_type": "code",
   "execution_count": null,
   "id": "9ecaf520-950b-4cd0-9896-b89c61661fe2",
   "metadata": {},
   "outputs": [],
   "source": []
  }
 ],
 "metadata": {
  "kernelspec": {
   "display_name": "Python 3 (ipykernel)",
   "language": "python",
   "name": "python3"
  },
  "language_info": {
   "codemirror_mode": {
    "name": "ipython",
    "version": 3
   },
   "file_extension": ".py",
   "mimetype": "text/x-python",
   "name": "python",
   "nbconvert_exporter": "python",
   "pygments_lexer": "ipython3",
   "version": "3.10.9"
  }
 },
 "nbformat": 4,
 "nbformat_minor": 5
}
