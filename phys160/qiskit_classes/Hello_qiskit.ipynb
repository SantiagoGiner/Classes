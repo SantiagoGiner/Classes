{
 "cells": [
  {
   "cell_type": "markdown",
   "id": "3a22ab55-6677-424e-b46b-110620389e87",
   "metadata": {},
   "source": [
    "Hello World Program :  Create the simplest quantum entangled state (Bell state):\n",
    "\n",
    "A closest source can be found at :https://qiskit.org/documentation/intro_tutorial1.html\n",
    "\n",
    "In this simple program we learn how to build simple quntum circuit and run it on simulator backend. \n",
    "\n",
    "When using Qiskit a user workflow nominally consists of following four high-level steps:\n",
    "\n",
    "    Build: Design a quantum circuit(s) that represents the problem you are considering.\n",
    "\n",
    "    Compile: Compile circuits for a specific quantum service, e.g. a quantum system or classical simulator.\n",
    "\n",
    "    Run: Run the compiled circuits on the specified quantum service(s). These services can be cloud-based or local.\n",
    "\n",
    "    Analyze: Compute summary statistics and visualize the results of the experiments.\n",
    "\n",
    "\n",
    "Step 1 : Import Packages"
   ]
  },
  {
   "cell_type": "code",
   "execution_count": 18,
   "id": "7354739a-2093-4c12-9476-51a521b4774d",
   "metadata": {},
   "outputs": [],
   "source": [
    "import numpy as np\n",
    "import qiskit as qk\n",
    "from qiskit import QuantumCircuit\n",
    "from qiskit.providers.aer import QasmSimulator\n",
    "from qiskit.visualization import plot_histogram"
   ]
  },
  {
   "cell_type": "markdown",
   "id": "a8522970-dd99-4939-8efb-8d3a50c1ce7c",
   "metadata": {},
   "source": [
    "In more detail, the imports are\n",
    "\n",
    "    QuantumCircuit: can be thought as the instructions of the quantum system. It holds all your quantum operations.\n",
    "\n",
    "    QasmSimulator: is the Aer high performance circuit simulator.\n",
    "\n",
    "    plot_histogram: creates histograms.\n"
   ]
  },
  {
   "cell_type": "markdown",
   "id": "49052fc8-0410-4794-87b2-fe9c6b0fe88f",
   "metadata": {},
   "source": [
    "Step 2 : Initialize Variables\n",
    "\n",
    "Here, we are initializing with 2 qubits in the zero state; with 2 classical bits set to zero; and circuit is the quantum circuit."
   ]
  },
  {
   "cell_type": "code",
   "execution_count": 2,
   "id": "847c5c85-372d-496a-83ba-a57ff340fde8",
   "metadata": {},
   "outputs": [
    {
     "ename": "NameError",
     "evalue": "name 'QuantumRegister' is not defined",
     "output_type": "error",
     "traceback": [
      "\u001b[0;31m---------------------------------------------------------------------------\u001b[0m",
      "\u001b[0;31mNameError\u001b[0m                                 Traceback (most recent call last)",
      "\u001b[0;32m<ipython-input-2-11425748dd17>\u001b[0m in \u001b[0;36m<module>\u001b[0;34m\u001b[0m\n\u001b[0;32m----> 1\u001b[0;31m \u001b[0mqr\u001b[0m\u001b[0;34m=\u001b[0m\u001b[0mQuantumRegister\u001b[0m\u001b[0;34m(\u001b[0m\u001b[0;36m2\u001b[0m\u001b[0;34m)\u001b[0m\u001b[0;34m\u001b[0m\u001b[0;34m\u001b[0m\u001b[0m\n\u001b[0m\u001b[1;32m      2\u001b[0m \u001b[0mcr\u001b[0m\u001b[0;34m=\u001b[0m\u001b[0mClassicalRegister\u001b[0m\u001b[0;34m(\u001b[0m\u001b[0;36m2\u001b[0m\u001b[0;34m)\u001b[0m\u001b[0;34m\u001b[0m\u001b[0;34m\u001b[0m\u001b[0m\n\u001b[1;32m      3\u001b[0m \u001b[0mcircuit\u001b[0m\u001b[0;34m=\u001b[0m\u001b[0mQuantumCircuit\u001b[0m\u001b[0;34m(\u001b[0m\u001b[0mqr\u001b[0m\u001b[0;34m,\u001b[0m\u001b[0mcr\u001b[0m\u001b[0;34m)\u001b[0m\u001b[0;34m\u001b[0m\u001b[0;34m\u001b[0m\u001b[0m\n",
      "\u001b[0;31mNameError\u001b[0m: name 'QuantumRegister' is not defined"
     ]
    }
   ],
   "source": [
    "qr=QuantumRegister(2)\n",
    "cr=ClassicalRegister(2)\n",
    "circuit=QuantumCircuit(qr,cr)"
   ]
  },
  {
   "cell_type": "markdown",
   "id": "5d867eb9-2b60-430c-ab41-214ddbea63a2",
   "metadata": {},
   "source": [
    "or directly  "
   ]
  },
  {
   "cell_type": "code",
   "execution_count": 3,
   "id": "d845f151-8e4b-40ec-a282-acd4dfe091b8",
   "metadata": {},
   "outputs": [],
   "source": [
    "circuit=QuantumCircuit(2,2)"
   ]
  },
  {
   "cell_type": "code",
   "execution_count": 5,
   "id": "1af050fc-934d-4b7e-813f-220ed29b14d7",
   "metadata": {},
   "outputs": [
    {
     "data": {
      "image/png": "[encoded data removed]",
      "text/plain": [
       "<Figure size 116.552x204.68 with 1 Axes>"
      ]
     },
     "execution_count": 5,
     "metadata": {},
     "output_type": "execute_result"
    }
   ],
   "source": [
    "circuit.draw('mpl')"
   ]
  },
  {
   "cell_type": "markdown",
   "id": "45667576-5d7a-4421-885e-d3dae911f497",
   "metadata": {},
   "source": [
    "we have the option to visualize how the quantum circuit looks by running the following command"
   ]
  },
  {
   "cell_type": "markdown",
   "id": "372877da-7a76-415a-9586-49c9e6549e44",
   "metadata": {},
   "source": [
    "Step 3 : Add Gates"
   ]
  },
  {
   "cell_type": "markdown",
   "id": "40fa2cee-a07d-45e5-815f-f857e386978f",
   "metadata": {},
   "source": [
    "Lets see what happens when we apply a gate. Here we start with Hadmard gate which creates superposition of two qubit"
   ]
  },
  {
   "cell_type": "code",
   "execution_count": 6,
   "id": "b74c74e2-7c3b-4a7b-9ccc-a410804501de",
   "metadata": {},
   "outputs": [],
   "source": [
    "circuit.h(0);"
   ]
  },
  {
   "cell_type": "markdown",
   "id": "56d3b8a0-bf24-4521-9cc2-df8e3d7f567a",
   "metadata": {},
   "source": [
    "Let us perform an entangling gate. We start with controlled-Not operation (𝐶𝑁𝑂𝑇) on control qubit 0 and target qubit 1, putting the qubits in an entangled state."
   ]
  },
  {
   "cell_type": "code",
   "execution_count": 7,
   "id": "eac7b55a-3500-4f54-a919-3912bc09f06b",
   "metadata": {},
   "outputs": [],
   "source": [
    "circuit.cx(0,1);"
   ]
  },
  {
   "cell_type": "markdown",
   "id": "d1f5c05c-d0b5-459b-ac33-4c0d78bf914d",
   "metadata": {},
   "source": [
    "Step 4 : Visualize the Circuit \n",
    "\n",
    "You can use qiskit.circuit.QuantumCircuit.draw() to view the circuit that you have designed in the various forms used in many textbooks and research articles."
   ]
  },
  {
   "cell_type": "code",
   "execution_count": 10,
   "id": "71e1599d-d308-4948-89e6-2d4f45265529",
   "metadata": {},
   "outputs": [
    {
     "data": {
      "text/html": [
       "<pre style=\"word-wrap: normal;white-space: pre;background: #fff0;line-height: 1.1;font-family: &quot;Courier New&quot;,Courier,monospace\">     ┌───┐     \n",
       "q_0: ┤ H ├──■──\n",
       "     └───┘┌─┴─┐\n",
       "q_1: ─────┤ X ├\n",
       "          └───┘\n",
       "c: 2/══════════\n",
       "               </pre>"
      ],
      "text/plain": [
       "     ┌───┐     \n",
       "q_0: ┤ H ├──■──\n",
       "     └───┘┌─┴─┐\n",
       "q_1: ─────┤ X ├\n",
       "          └───┘\n",
       "c: 2/══════════\n",
       "               "
      ]
     },
     "execution_count": 10,
     "metadata": {},
     "output_type": "execute_result"
    }
   ],
   "source": [
    "circuit.draw()"
   ]
  },
  {
   "cell_type": "markdown",
   "id": "73405a5d-f2b1-44db-b582-1cc5c7ea4a66",
   "metadata": {},
   "source": [
    "The default backend for QuantumCircuit.draw() or qiskit.visualization.circuit_drawer() is the text backend. However, depending on your local environment you may want to change these defaults to something better suited for your use case.For example, a settings.conf file for setting a Matplotlib drawer is:"
   ]
  },
  {
   "cell_type": "code",
   "execution_count": 193,
   "id": "f97a69af-449e-44ed-8590-daef637d055b",
   "metadata": {},
   "outputs": [
    {
     "data": {
      "image/png": "[encoded data removed]",
      "text/plain": [
       "<Figure size 206.852x204.68 with 1 Axes>"
      ]
     },
     "execution_count": 193,
     "metadata": {},
     "output_type": "execute_result"
    }
   ],
   "source": [
    "circuit.draw(output='mpl')"
   ]
  },
  {
   "cell_type": "markdown",
   "id": "778f3aff-3e79-4fd5-a56e-b260c7e183c5",
   "metadata": {},
   "source": [
    "Congradualtion you have created the Bell state: |𝜓⟩=(|00⟩+|11⟩)/2"
   ]
  },
  {
   "cell_type": "markdown",
   "id": "744bcfdd-6f4e-431c-b309-246091262476",
   "metadata": {},
   "source": [
    "Now we can extract the outputs by using .measure() function in Qiskit. In this example, the classical bits will be used to store the outputs"
   ]
  },
  {
   "cell_type": "code",
   "execution_count": 11,
   "id": "258aaa24-8b6f-40d7-9b9b-06090a72ac5a",
   "metadata": {},
   "outputs": [
    {
     "data": {
      "text/plain": [
       "<qiskit.circuit.instructionset.InstructionSet at 0x7fccbe513a00>"
      ]
     },
     "execution_count": 11,
     "metadata": {},
     "output_type": "execute_result"
    }
   ],
   "source": [
    "circuit.measure([0],[0])"
   ]
  },
  {
   "cell_type": "code",
   "execution_count": 12,
   "id": "694c8a20-48e7-4913-a58f-059ef2a2d8c1",
   "metadata": {},
   "outputs": [
    {
     "data": {
      "text/html": [
       "<pre style=\"word-wrap: normal;white-space: pre;background: #fff0;line-height: 1.1;font-family: &quot;Courier New&quot;,Courier,monospace\">     ┌───┐     ┌─┐\n",
       "q_0: ┤ H ├──■──┤M├\n",
       "     └───┘┌─┴─┐└╥┘\n",
       "q_1: ─────┤ X ├─╫─\n",
       "          └───┘ ║ \n",
       "c: 2/═══════════╩═\n",
       "                0 </pre>"
      ],
      "text/plain": [
       "     ┌───┐     ┌─┐\n",
       "q_0: ┤ H ├──■──┤M├\n",
       "     └───┘┌─┴─┐└╥┘\n",
       "q_1: ─────┤ X ├─╫─\n",
       "          └───┘ ║ \n",
       "c: 2/═══════════╩═\n",
       "                0 "
      ]
     },
     "execution_count": 12,
     "metadata": {},
     "output_type": "execute_result"
    }
   ],
   "source": [
    "circuit.draw()"
   ]
  },
  {
   "cell_type": "code",
   "execution_count": 13,
   "id": "0f17e3e0-a885-45d0-88d3-74f01f9395ce",
   "metadata": {},
   "outputs": [
    {
     "data": {
      "text/plain": [
       "<qiskit.circuit.instructionset.InstructionSet at 0x7fccbe5184c0>"
      ]
     },
     "execution_count": 13,
     "metadata": {},
     "output_type": "execute_result"
    }
   ],
   "source": [
    "circuit.measure([1],[1])"
   ]
  },
  {
   "cell_type": "code",
   "execution_count": 14,
   "id": "ffb66840-52aa-4a46-9fa2-22e77f61f772",
   "metadata": {},
   "outputs": [
    {
     "data": {
      "image/png": "[encoded data removed]",
      "text/plain": [
       "<Figure size 327.252x204.68 with 1 Axes>"
      ]
     },
     "execution_count": 14,
     "metadata": {},
     "output_type": "execute_result"
    }
   ],
   "source": [
    "circuit.draw(output='mpl')"
   ]
  },
  {
   "cell_type": "markdown",
   "id": "b4ec4fbd-973b-4a32-ac5f-4574e9bf3133",
   "metadata": {},
   "source": [
    "or directly"
   ]
  },
  {
   "cell_type": "code",
   "execution_count": 141,
   "id": "f739f917-9616-4476-88bb-cdd1396a16b6",
   "metadata": {},
   "outputs": [],
   "source": [
    "#circuit.measure([0,1],[0,1])"
   ]
  },
  {
   "cell_type": "code",
   "execution_count": 142,
   "id": "3388a78d-0e00-41b9-bfba-fed3f105b538",
   "metadata": {},
   "outputs": [],
   "source": [
    "#circuit.draw(output='mpl')"
   ]
  },
  {
   "cell_type": "markdown",
   "id": "d1d4ef71-75be-47f9-8170-663fb9d82c71",
   "metadata": {},
   "source": [
    "Step 5 : Simulate the Experiment\n",
    "\n",
    "Qiskit Aer is a high performance simulator framework for quantum circuits. It provides several backends to achieve different simulation goals. If you have issues installing Aer, you can alternatively use the Basic Aer provider by replacing Aer with BasicAer. Basic Aer is included in Qiskit Terra.\n",
    "\n",
    "To simulate this circuit, you will use the qasm_simulator. Each run of this circuit will yield either the bit string 00 or 11."
   ]
  },
  {
   "cell_type": "code",
   "execution_count": 19,
   "id": "0572be2c-aefa-41e8-9033-243955c8091c",
   "metadata": {},
   "outputs": [],
   "source": [
    "simulator = QasmSimulator()\n",
    "compiled_circuit = qk.transpile(circuit, simulator)\n",
    "#job = simulator.run(compiled_circuit, shots=1000)\n",
    "job = simulator.run(circuit, shots=1000)"
   ]
  },
  {
   "cell_type": "markdown",
   "id": "1b788af6-60ba-4852-bcb0-a951910d73fc",
   "metadata": {},
   "source": [
    "Lets check the results:"
   ]
  },
  {
   "cell_type": "code",
   "execution_count": 20,
   "id": "9fb10951-fb0f-4dc2-b6be-818bbe9c2125",
   "metadata": {},
   "outputs": [
    {
     "name": "stdout",
     "output_type": "stream",
     "text": [
      "\n",
      "Total count for 00 and 11 are: {'00': 507, '11': 493}\n"
     ]
    }
   ],
   "source": [
    "result = job.result()\n",
    "counts = result.get_counts(circuit)\n",
    "print(\"\\nTotal count for 00 and 11 are:\",counts)"
   ]
  },
  {
   "cell_type": "code",
   "execution_count": 206,
   "id": "05806592-743f-41a4-b6b0-4a3eb770b522",
   "metadata": {},
   "outputs": [],
   "source": [
    "#result"
   ]
  },
  {
   "cell_type": "markdown",
   "id": "a70b4f5d-cb31-4b05-963b-147f33604a1f",
   "metadata": {},
   "source": [
    "As expected, the output bit string is 00 approximately 50 percent of the time. The number of times the circuit is run can be specified via the shots argument of the execute method. The number of shots of the simulation was set to be 1000 (the default is 1024)"
   ]
  },
  {
   "cell_type": "markdown",
   "id": "2bfcf728-04c3-4b54-8a6b-8e29e7d266ef",
   "metadata": {},
   "source": [
    "Step 6 : Visualize the Results\n",
    "\n",
    "Qiskit provides many visualizations,\n",
    "\n",
    "including the function plot_histogram, to view your results."
   ]
  },
  {
   "cell_type": "code",
   "execution_count": 22,
   "id": "1b2000b5-2b6a-4c6f-b136-f153ea8f1ee3",
   "metadata": {},
   "outputs": [
    {
     "data": {
      "image/png": "[encoded data removed]",
      "text/plain": [
       "<Figure size 504x360 with 1 Axes>"
      ]
     },
     "execution_count": 22,
     "metadata": {},
     "output_type": "execute_result"
    }
   ],
   "source": [
    "plot_histogram(counts)"
   ]
  },
  {
   "cell_type": "code",
   "execution_count": null,
   "id": "451a53b2-34e7-4838-a477-425b92d444ed",
   "metadata": {},
   "outputs": [],
   "source": []
  }
 ],
 "metadata": {
  "kernelspec": {
   "display_name": "Python 3 (ipykernel)",
   "language": "python",
   "name": "python3"
  },
  "language_info": {
   "codemirror_mode": {
    "name": "ipython",
    "version": 3
   },
   "file_extension": ".py",
   "mimetype": "text/x-python",
   "name": "python",
   "nbconvert_exporter": "python",
   "pygments_lexer": "ipython3",
   "version": "3.10.4"
  }
 },
 "nbformat": 4,
 "nbformat_minor": 5
}
