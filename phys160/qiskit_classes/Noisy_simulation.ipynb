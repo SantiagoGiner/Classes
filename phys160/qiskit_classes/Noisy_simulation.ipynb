{
 "cells": [
  {
   "cell_type": "markdown",
   "id": "84589dc9-ab17-400a-aa42-95820e116410",
   "metadata": {},
   "source": [
    "Characterizing noisy circuit using GHZ state : https://qiskit.org/documentation/tutorials/simulators/3_building_noise_models.html\n",
    "\n",
    "The Qiskit Aer noise module contains Python classes to build customized noise models for simulation. There are three key classes:\n",
    "\n",
    "    1.The NoiseModel class which stores a noise model used for noisy simulation.\n",
    "\n",
    "    2.The QuantumError class which describes CPTP gate errors. These can be applied:\n",
    "\n",
    "        After gate or reset instructions\n",
    "\n",
    "        Before measure instructions.\n",
    "\n",
    "    3. The ReadoutError class which describes classical readout errors.\n"
   ]
  },
  {
   "cell_type": "code",
   "execution_count": 2,
   "id": "de9cc676-e1c1-4f41-84bf-b8f845d47fbc",
   "metadata": {},
   "outputs": [],
   "source": [
    "import numpy as np\n",
    "from qiskit import QuantumCircuit, transpile\n",
    "from qiskit.quantum_info import Kraus, SuperOp\n",
    "from qiskit.providers.aer import AerSimulator\n",
    "from qiskit.tools.visualization import plot_histogram\n",
    "\n",
    "\n",
    "# Import from Qiskit Aer noise module\n",
    "from qiskit.providers.aer.noise import NoiseModel\n",
    "from qiskit.providers.aer.noise import QuantumError, ReadoutError\n",
    "from qiskit.providers.aer.noise import pauli_error\n",
    "from qiskit.providers.aer.noise import depolarizing_error\n",
    "from qiskit.providers.aer.noise import thermal_relaxation_error"
   ]
  },
  {
   "cell_type": "markdown",
   "id": "aa2c876b-9aeb-4090-a29b-bdacb78dcbf5",
   "metadata": {},
   "source": [
    "Example 1:construct a 5% single-qubit Bit-flip error:"
   ]
  },
  {
   "cell_type": "code",
   "execution_count": 3,
   "id": "f0271f40-2dd7-4012-ac96-506da7da03a6",
   "metadata": {},
   "outputs": [
    {
     "name": "stdout",
     "output_type": "stream",
     "text": [
      "QuantumError on 1 qubits. Noise circuits:\n",
      "  P(0) = 0.05, Circuit = \n",
      "   ┌───┐\n",
      "q: ┤ X ├\n",
      "   └───┘\n",
      "  P(1) = 0.95, Circuit = \n",
      "   ┌───┐\n",
      "q: ┤ I ├\n",
      "   └───┘\n",
      "QuantumError on 1 qubits. Noise circuits:\n",
      "  P(0) = 0.05, Circuit = \n",
      "   ┌───┐\n",
      "q: ┤ Z ├\n",
      "   └───┘\n",
      "  P(1) = 0.95, Circuit = \n",
      "   ┌───┐\n",
      "q: ┤ I ├\n",
      "   └───┘\n"
     ]
    }
   ],
   "source": [
    "# Construct a 1-qubit bit-flip and phase-flip errors\n",
    "p_error = 0.05\n",
    "bit_flip = pauli_error([('X', p_error), ('I', 1 - p_error)])\n",
    "phase_flip = pauli_error([('Z', p_error), ('I', 1 - p_error)])\n",
    "print(bit_flip)\n",
    "print(phase_flip)"
   ]
  },
  {
   "cell_type": "code",
   "execution_count": 4,
   "id": "b4130183-6085-4792-859e-e8de89f87afc",
   "metadata": {},
   "outputs": [
    {
     "name": "stdout",
     "output_type": "stream",
     "text": [
      "QuantumError on 1 qubits. Noise circuits:\n",
      "  P(0) = 0.0025000000000000005, Circuit = \n",
      "   ┌───┐┌───┐\n",
      "q: ┤ X ├┤ Z ├\n",
      "   └───┘└───┘\n",
      "  P(1) = 0.0475, Circuit = \n",
      "   ┌───┐┌───┐\n",
      "q: ┤ X ├┤ I ├\n",
      "   └───┘└───┘\n",
      "  P(2) = 0.0475, Circuit = \n",
      "   ┌───┐┌───┐\n",
      "q: ┤ I ├┤ Z ├\n",
      "   └───┘└───┘\n",
      "  P(3) = 0.9025, Circuit = \n",
      "   ┌───┐┌───┐\n",
      "q: ┤ I ├┤ I ├\n",
      "   └───┘└───┘\n"
     ]
    }
   ],
   "source": [
    "# Compose two bit-flip and phase-flip errors\n",
    "bitphase_flip = bit_flip.compose(phase_flip)\n",
    "print(bitphase_flip)"
   ]
  },
  {
   "cell_type": "code",
   "execution_count": 5,
   "id": "4b8da9d9-6d9d-4907-9b82-cee440bfd656",
   "metadata": {},
   "outputs": [
    {
     "name": "stdout",
     "output_type": "stream",
     "text": [
      "QuantumError on 2 qubits. Noise circuits:\n",
      "  P(0) = 0.0025000000000000005, Circuit = \n",
      "     ┌───┐\n",
      "q_0: ┤ X ├\n",
      "     ├───┤\n",
      "q_1: ┤ Z ├\n",
      "     └───┘\n",
      "  P(1) = 0.0475, Circuit = \n",
      "     ┌───┐\n",
      "q_0: ┤ I ├\n",
      "     ├───┤\n",
      "q_1: ┤ Z ├\n",
      "     └───┘\n",
      "  P(2) = 0.0475, Circuit = \n",
      "     ┌───┐\n",
      "q_0: ┤ X ├\n",
      "     ├───┤\n",
      "q_1: ┤ I ├\n",
      "     └───┘\n",
      "  P(3) = 0.9025, Circuit = \n",
      "     ┌───┐\n",
      "q_0: ┤ I ├\n",
      "     ├───┤\n",
      "q_1: ┤ I ├\n",
      "     └───┘\n"
     ]
    }
   ],
   "source": [
    "# Tensor product two bit-flip and phase-flip errors with\n",
    "# bit-flip on qubit-0, phase-flip on qubit-1\n",
    "error2 = phase_flip.tensor(bit_flip)\n",
    "print(error2)"
   ]
  },
  {
   "cell_type": "markdown",
   "id": "a6215ea2-d5cb-4a3b-8279-c03d0c292dc4",
   "metadata": {},
   "source": [
    "step 1: Create GHZ state"
   ]
  },
  {
   "cell_type": "code",
   "execution_count": 19,
   "id": "44bccd87-5eb5-465d-9835-cad6407b0e00",
   "metadata": {},
   "outputs": [
    {
     "name": "stdout",
     "output_type": "stream",
     "text": [
      "        ┌───┐     ┌───┐           ░ ┌─┐         \n",
      "   q_0: ┤ H ├──■──┤ H ├───────────░─┤M├─────────\n",
      "        └───┘┌─┴─┐└───┘┌───┐      ░ └╥┘┌─┐      \n",
      "   q_1: ─────┤ X ├──■──┤ H ├──────░──╫─┤M├──────\n",
      "             └───┘┌─┴─┐└───┘┌───┐ ░  ║ └╥┘┌─┐   \n",
      "   q_2: ──────────┤ X ├──■──┤ H ├─░──╫──╫─┤M├───\n",
      "                  └───┘┌─┴─┐├───┤ ░  ║  ║ └╥┘┌─┐\n",
      "   q_3: ───────────────┤ X ├┤ H ├─░──╫──╫──╫─┤M├\n",
      "                       └───┘└───┘ ░  ║  ║  ║ └╥┘\n",
      "meas: 4/═════════════════════════════╩══╩══╩══╩═\n",
      "                                     0  1  2  3 \n"
     ]
    }
   ],
   "source": [
    "# System Specification\n",
    "n_qubits = 4\n",
    "circuit2 = QuantumCircuit(n_qubits)\n",
    "\n",
    "# Test Circuit\n",
    "circuit2.h(0)\n",
    "for qubit in range(n_qubits - 1):\n",
    "    circuit2.cx(qubit, qubit + 1)\n",
    "    circuit2.h(qubit)\n",
    "circuit2.h(3)\n",
    "circuit2.measure_all()\n",
    "print(circuit2)"
   ]
  },
  {
   "cell_type": "code",
   "execution_count": 7,
   "id": "372c5e0b-2208-4e4c-9e90-0600cf650d6f",
   "metadata": {},
   "outputs": [],
   "source": [
    "#circuit2.draw(output='mpl')"
   ]
  },
  {
   "cell_type": "markdown",
   "id": "0a97edb0-168f-4279-ba07-c273ff67c09a",
   "metadata": {},
   "source": [
    "step2: Ideal Simulation"
   ]
  },
  {
   "cell_type": "code",
   "execution_count": 20,
   "id": "8d6dd45b-87ad-4f5e-975e-4ffb44845efa",
   "metadata": {},
   "outputs": [
    {
     "data": {
      "image/png": "[encoded data removed]",
      "text/plain": [
       "<Figure size 504x360 with 1 Axes>"
      ]
     },
     "execution_count": 20,
     "metadata": {},
     "output_type": "execute_result"
    }
   ],
   "source": [
    "# Ideal simulator and execution\n",
    "sim_ideal = AerSimulator()\n",
    "job_ideal=sim_ideal.run(circuit2)\n",
    "result_ideal =job_ideal.result()\n",
    "counts_ideal=result_ideal.get_counts()\n",
    "plot_histogram(counts_ideal)"
   ]
  },
  {
   "cell_type": "markdown",
   "id": "74efd8b4-48f9-4f30-8c82-92d40f6eccc6",
   "metadata": {},
   "source": [
    "Noise Example 1: Basic bit-flip error noise model¶\n",
    "\n",
    "Lets consider a simple toy noise model example common in quantum information theory research:\n",
    "\n",
    "    When applying a single qubit gate, flip the state of the qubit with probability p_gate1.\n",
    "\n",
    "    When applying a 2-qubit gate apply single-qubit errors to each qubit.\n",
    "\n",
    "    When resetting a qubit reset to 1 instead of 0 with probability p_reset.\n",
    "\n",
    "    When measuring a qubit, flip the state of the qubit with probability p_meas.\n"
   ]
  },
  {
   "cell_type": "code",
   "execution_count": 21,
   "id": "68317bad-68c1-45eb-8a1f-69e9dc800055",
   "metadata": {},
   "outputs": [
    {
     "name": "stdout",
     "output_type": "stream",
     "text": [
      "NoiseModel:\n",
      "  Basis gates: ['cx', 'id', 'rz', 'sx', 'u1', 'u2', 'u3']\n",
      "  Instructions with noise: ['reset', 'cx', 'measure', 'u1', 'u2', 'u3']\n",
      "  All-qubits errors: ['reset', 'measure', 'u1', 'u2', 'u3', 'cx']\n"
     ]
    }
   ],
   "source": [
    "# Example error probabilities\n",
    "p_reset = 0.03\n",
    "p_meas = 0.1\n",
    "p_gate1 = 0.05\n",
    "\n",
    "# QuantumError objects\n",
    "error_reset = pauli_error([('X', p_reset), ('I', 1 - p_reset)])\n",
    "error_meas = pauli_error([('X',p_meas), ('I', 1 - p_meas)])\n",
    "error_gate1 = pauli_error([('X',p_gate1), ('I', 1 - p_gate1)])\n",
    "error_gate2 = error_gate1.tensor(error_gate1)\n",
    "\n",
    "# Add errors to noise model\n",
    "noise_bit_flip = NoiseModel()\n",
    "noise_bit_flip.add_all_qubit_quantum_error(error_reset, \"reset\")\n",
    "noise_bit_flip.add_all_qubit_quantum_error(error_meas, \"measure\")\n",
    "noise_bit_flip.add_all_qubit_quantum_error(error_gate1, [\"u1\", \"u2\", \"u3\"])\n",
    "noise_bit_flip.add_all_qubit_quantum_error(error_gate2, [\"cx\"])\n",
    "\n",
    "print(noise_bit_flip)"
   ]
  },
  {
   "cell_type": "markdown",
   "id": "61744114-6aae-4f15-b1ed-5701033ade43",
   "metadata": {},
   "source": [
    "Executing the noisy simulation"
   ]
  },
  {
   "cell_type": "code",
   "execution_count": 22,
   "id": "e5ac3117-e0d9-4996-98f3-b9287b08bd48",
   "metadata": {},
   "outputs": [
    {
     "data": {
      "image/png": "[encoded data removed]",
      "text/plain": [
       "<Figure size 504x360 with 1 Axes>"
      ]
     },
     "execution_count": 22,
     "metadata": {},
     "output_type": "execute_result"
    }
   ],
   "source": [
    "# Create noisy simulator backend\n",
    "sim_noise = AerSimulator(noise_model=noise_bit_flip)\n",
    "\n",
    "# Transpile circuit for noisy basis gates\n",
    "circ_tnoise = transpile(circuit2, sim_noise)\n",
    "\n",
    "# Run and get counts\n",
    "result_bit_flip = sim_noise.run(circ_tnoise).result()\n",
    "counts_bit_flip = result_bit_flip.get_counts(0)\n",
    "\n",
    "# Plot noisy output\n",
    "plot_histogram(counts_bit_flip)\n"
   ]
  },
  {
   "cell_type": "code",
   "execution_count": null,
   "id": "73c57167-563c-401d-ac79-668c2cbc5268",
   "metadata": {},
   "outputs": [],
   "source": []
  }
 ],
 "metadata": {
  "kernelspec": {
   "display_name": "Python 3 (ipykernel)",
   "language": "python",
   "name": "python3"
  },
  "language_info": {
   "codemirror_mode": {
    "name": "ipython",
    "version": 3
   },
   "file_extension": ".py",
   "mimetype": "text/x-python",
   "name": "python",
   "nbconvert_exporter": "python",
   "pygments_lexer": "ipython3",
   "version": "3.10.4"
  }
 },
 "nbformat": 4,
 "nbformat_minor": 5
}
