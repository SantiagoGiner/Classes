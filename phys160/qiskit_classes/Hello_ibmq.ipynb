{
 "cells": [
  {
   "cell_type": "code",
   "execution_count": 78,
   "id": "26dd4c1d-fff1-4da6-b0cb-45831e1b1ff3",
   "metadata": {},
   "outputs": [],
   "source": [
    "## import the packages\n",
    "import numpy as np\n",
    "\n",
    "# Import Standard Qskit libraries\n",
    "from qiskit import QuantumCircuit, transpile, Aer, IBMQ, execute, assemble\n",
    "from qiskit.tools.jupyter import *\n",
    "from qiskit.visualization import *\n",
    "from qiskit.providers.aer import QasmSimulator"
   ]
  },
  {
   "cell_type": "code",
   "execution_count": 79,
   "id": "7253dcd7-ab26-4bdb-a015-62fe0c8303dd",
   "metadata": {},
   "outputs": [
    {
     "name": "stderr",
     "output_type": "stream",
     "text": [
      "ibmqfactory.load_account:WARNING:2022-04-07 13:14:59,784: Credentials are already in use. The existing account in the session will be replaced.\n"
     ]
    },
    {
     "data": {
      "text/plain": [
       "<AccountProvider for IBMQ(hub='ibm-q', group='open', project='main')>"
      ]
     },
     "execution_count": 79,
     "metadata": {},
     "output_type": "execute_result"
    }
   ],
   "source": [
    "## now we need to add the following  line and replace <API_Token>\n",
    "IBMQ.save_account('b7b256949a73ed4e6214dd9c51ca965053d0b5017502b25deda64fcb7c7b7614852ac7fd54be93859c9d11dbfa78b48890633c54b07804850a735b1312594b0e',overwrite=True)\n",
    "IBMQ.load_account()"
   ]
  },
  {
   "cell_type": "code",
   "execution_count": 80,
   "id": "7b50910d-71cb-4e8e-98a1-f5945dd3caed",
   "metadata": {},
   "outputs": [],
   "source": [
    "#provider"
   ]
  },
  {
   "cell_type": "code",
   "execution_count": 81,
   "id": "c1872de6-8d48-4f11-8639-88fa9952a6b1",
   "metadata": {},
   "outputs": [],
   "source": [
    "provider = IBMQ.providers()\n",
    "provider=IBMQ.get_provider(hub='ibm-q-education', group='harvard-uni-1', project='intro-to-quantum')"
   ]
  },
  {
   "cell_type": "code",
   "execution_count": 82,
   "id": "2e55ecb1-f5d4-4e31-b559-a7d166c95f84",
   "metadata": {},
   "outputs": [],
   "source": [
    "# specify the backend\n",
    "backend=provider.get_backend(\"ibmq_lima\")"
   ]
  },
  {
   "cell_type": "code",
   "execution_count": 83,
   "id": "baa501b0-a997-414e-9574-3486a4a10673",
   "metadata": {},
   "outputs": [
    {
     "data": {
      "image/png": "[encoded data removed]",
      "text/plain": [
       "<Figure size 538.279x264.88 with 1 Axes>"
      ]
     },
     "execution_count": 83,
     "metadata": {},
     "output_type": "execute_result"
    }
   ],
   "source": [
    "#Create your circuit\n",
    "qc=QuantumCircuit(3)\n",
    "\n",
    "qc.h(0)\n",
    "qc.cx(0,1)\n",
    "qc.cx(1,2)\n",
    "qc.measure_all()\n",
    "\n",
    "qc.draw('mpl')"
   ]
  },
  {
   "cell_type": "code",
   "execution_count": 84,
   "id": "5c69ab35-3415-4c2e-9078-cb07527ce791",
   "metadata": {},
   "outputs": [
    {
     "name": "stderr",
     "output_type": "stream",
     "text": [
      "/var/folders/_q/vynkw82563d98c0787lvpsr00000gn/T/ipykernel_20661/1848009916.py:4: DeprecationWarning: Passing a Qobj to Backend.run is deprecated and will be removed in a future release. Please pass in circuits or pulse schedules instead.\n",
      "  job=backend.run(qobj)\n"
     ]
    }
   ],
   "source": [
    "# executing method 1 :Manually\n",
    "#mapped_circuit=transpile(qc,backend=backend)\n",
    "#qobj=assemble(mapped_circuit,backend=backend,shots=1024)\n",
    "#job=backend.run(qobj)"
   ]
  },
  {
   "cell_type": "code",
   "execution_count": 85,
   "id": "b8f61dff-7f0e-4ec2-ab12-60d32fc67c39",
   "metadata": {},
   "outputs": [],
   "source": [
    "# executing method 2: \n",
    "job=execute(qc,backend)"
   ]
  },
  {
   "cell_type": "code",
   "execution_count": 89,
   "id": "980ef336-5b00-4cea-8103-a38f0ef231a0",
   "metadata": {},
   "outputs": [
    {
     "name": "stdout",
     "output_type": "stream",
     "text": [
      "624f1c2bcaa2651258f19db9\n"
     ]
    }
   ],
   "source": [
    "# get your job_ id\n",
    "print(job.job_id())"
   ]
  },
  {
   "cell_type": "code",
   "execution_count": 90,
   "id": "45ca2c23-bb50-4703-ac68-ff0be318d8bd",
   "metadata": {},
   "outputs": [],
   "source": [
    "# Now lets get the results\n",
    "result=job.result()\n",
    "counts=result.get_counts()"
   ]
  },
  {
   "cell_type": "code",
   "execution_count": 91,
   "id": "e08ee775-d193-4862-8f6c-4645ebcd3f13",
   "metadata": {},
   "outputs": [
    {
     "data": {
      "text/plain": [
       "{'000': 1762,\n",
       " '001': 36,\n",
       " '010': 12,\n",
       " '011': 114,\n",
       " '100': 125,\n",
       " '101': 90,\n",
       " '110': 93,\n",
       " '111': 1768}"
      ]
     },
     "execution_count": 91,
     "metadata": {},
     "output_type": "execute_result"
    }
   ],
   "source": [
    "counts"
   ]
  },
  {
   "cell_type": "code",
   "execution_count": 92,
   "id": "40de3979-1668-48d7-8f5f-4ccc2e68f8ec",
   "metadata": {},
   "outputs": [
    {
     "data": {
      "image/png": "[encoded data removed]",
      "text/plain": [
       "<Figure size 504x360 with 1 Axes>"
      ]
     },
     "execution_count": 92,
     "metadata": {},
     "output_type": "execute_result"
    }
   ],
   "source": [
    "plot_histogram(counts)"
   ]
  },
  {
   "cell_type": "code",
   "execution_count": null,
   "id": "60e2f2c8-1ae5-4ab5-86b0-1335fb35dc69",
   "metadata": {},
   "outputs": [],
   "source": []
  }
 ],
 "metadata": {
  "kernelspec": {
   "display_name": "Python 3 (ipykernel)",
   "language": "python",
   "name": "python3"
  },
  "language_info": {
   "codemirror_mode": {
    "name": "ipython",
    "version": 3
   },
   "file_extension": ".py",
   "mimetype": "text/x-python",
   "name": "python",
   "nbconvert_exporter": "python",
   "pygments_lexer": "ipython3",
   "version": "3.10.4"
  }
 },
 "nbformat": 4,
 "nbformat_minor": 5
}
