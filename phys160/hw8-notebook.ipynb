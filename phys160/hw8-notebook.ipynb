{
 "cells": [
  {
   "cell_type": "markdown",
   "id": "73ca5e4c",
   "metadata": {},
   "source": [
    "# Problem 4: Noisy quantum gates\n",
    "Part 3: Simulate the exact Fidelity $\\mathcal{F}$ as a function of the ratio $J/\\gamma$, and compare it to your analytical estimate."
   ]
  },
  {
   "cell_type": "code",
   "execution_count": 1,
   "id": "8158c594",
   "metadata": {},
   "outputs": [],
   "source": [
    "# Importing relevant packages\n",
    "import qutip as qt\n",
    "import numpy as np\n",
    "import matplotlib.pyplot as plt"
   ]
  },
  {
   "cell_type": "code",
   "execution_count": 3,
   "id": "72908a4a",
   "metadata": {},
   "outputs": [],
   "source": [
    "def create_H2(J): \n",
    "    #Creating a Hamiltonian H2 for two qubits. \n",
    "    '''Using the tensor function we can do this easily'''\n",
    "    #Function qt.ket2dm takes in a ket |psi> and creates the density matrix associated with it |psi><psi|\n",
    "    #Function qt.tensor(a,b) creates the tensor product between two kets or density matrices\n",
    "    #Note that tensor only takes two arguments. For three arguments you need to call it twice: \n",
    "    # qt.tensor(a,qt.tensor(b,c))\n",
    "    return J*qt.tensor(qt.ket2dm(qt.basis(2,1)), qt.ket2dm(qt.basis(2,1)))\n",
    "\n",
    "\n",
    "def Evolve_H2_with_noise(psi, J, gamma, t, Ntimes=100): \n",
    "    \"\"\"This function evolves the state psi under the H2 Hamiltonian with added dephasing of \n",
    "    stregth gamma for time t\"\"\"\n",
    "    if gamma>1e-12:\n",
    "        c_ops = [np.sqrt(gamma/2)*qt.tensor(qt.sigmaz(),qt.identity(dims=[2])),\\\n",
    "                 np.sqrt(gamma/2)*qt.tensor(qt.identity(dims=[2]),qt.sigmaz())]\n",
    "        res = qt.mesolve(create_H2(J), psi, np.linspace(0,t, Ntimes), c_ops=c_ops)\n",
    "    else: \n",
    "        res = qt.sesolve(create_H2(J), psi, np.linspace(0,t, Ntimes))\n",
    "    return res.states"
   ]
  },
  {
   "cell_type": "code",
   "execution_count": 15,
   "id": "10b995b5",
   "metadata": {},
   "outputs": [
    {
     "data": {
      "image/png": "[encoded data removed]",
      "text/plain": [
       "<Figure size 432x288 with 1 Axes>"
      ]
     },
     "metadata": {
      "needs_background": "light"
     },
     "output_type": "display_data"
    }
   ],
   "source": [
    "'''Testing our functions from above. We initialize in psi=|+>|1> '''\n",
    "psi = qt.tensor((qt.basis(2, 0) + qt.basis(2, 1)).unit(), qt.basis(2,1))\n",
    "\n",
    "t, J, gamma, Ntimes = 10, 1, 0.1, 100\n",
    "\n",
    "states_with_noise = Evolve_H2_with_noise(psi, J, gamma, t, Ntimes=Ntimes)\n",
    "states_no_noise = Evolve_H2_with_noise(psi, J, 0, t)\n",
    "\n",
    "'''We measure the fidelity with the ideal states'''\n",
    "fidelities = []\n",
    "for i in range(Ntimes):\n",
    "    fidelities.append(qt.metrics.fidelity(states_no_noise[i],states_with_noise[i]))\n",
    "    \n",
    "'''Plotting the fidelities'''\n",
    "plt.figure()\n",
    "plt.plot(np.linspace(0, t, Ntimes), fidelities)\n",
    "#plt.plot(np.linspace(0, t, Ntimes), np.exp(-2 * gamma * np.linspace(0, t, Ntimes)))\n",
    "plt.show()"
   ]
  },
  {
   "cell_type": "code",
   "execution_count": 21,
   "id": "a6a62bda",
   "metadata": {},
   "outputs": [],
   "source": [
    "'''Okay, now your turn! Here is what you need to do:\n",
    "1. Define a new evolution function to account for your three qubit system (change H2 to H3, and \n",
    "account for 3 decay operators). \n",
    "2. Fix the total time based on what you found in other parts of the problem and get the fidelities\n",
    "for different values of J/gamma'''\n",
    "def create_H3(J): \n",
    "    #Creating a Hamiltonian H2 for two qubits. \n",
    "    '''Using the tensor function we can do this easily'''\n",
    "    #Function qt.ket2dm takes in a ket |psi> and creates the density matrix associated with it |psi><psi|\n",
    "    #Function qt.tensor(a,b) creates the tensor product between two kets or density matrices\n",
    "    #Note that tensor only takes two arguments. For three arguments you need to call it twice: \n",
    "    # qt.tensor(a,qt.tensor(b,c))\n",
    "    return J*qt.tensor(qt.ket2dm(qt.basis(2,1)), qt.ket2dm(qt.basis(2,1)), qt.ket2dm(qt.basis(2,1)))\n",
    "\n",
    "\n",
    "def Evolve_H3_with_noise(psi, J, gamma, t, Ntimes=100): \n",
    "    \"\"\"This function evolves the state psi under the H2 Hamiltonian with added dephasing of \n",
    "    stregth gamma for time t\"\"\"\n",
    "    if gamma>1e-12:\n",
    "        c_ops = [np.sqrt(gamma/2)*qt.tensor(qt.sigmaz(),qt.identity(dims=[2]), qt.identity(2)),\\\n",
    "                 np.sqrt(gamma/2)*qt.tensor(qt.identity(dims=[2]),qt.sigmaz(), qt.identity(2)),\\\n",
    "                 np.sqrt(gamma/2)*qt.tensor(qt.identity(2), qt.identity(2), qt.sigmaz())]\n",
    "        res = qt.mesolve(create_H3(J), psi, np.linspace(0,t, Ntimes), c_ops=c_ops)\n",
    "    else: \n",
    "        res = qt.sesolve(create_H3(J), psi, np.linspace(0,t, Ntimes))\n",
    "    return res.states"
   ]
  },
  {
   "cell_type": "code",
   "execution_count": 22,
   "id": "8a40b532-04d6-433e-a756-ef52f41831b7",
   "metadata": {},
   "outputs": [
    {
     "data": {
      "image/png": "[encoded data removed]",
      "text/plain": [
       "<Figure size 432x288 with 1 Axes>"
      ]
     },
     "metadata": {
      "needs_background": "light"
     },
     "output_type": "display_data"
    }
   ],
   "source": [
    "'''Testing our functions from above. We initialize in psi=|+>|+>|1> '''\n",
    "psi = qt.tensor((qt.basis(2, 0) + qt.basis(2, 1)).unit(), (qt.basis(2,0) + qt.basis(2, 1)).unit(), qt.basis(2,1))\n",
    "\n",
    "t, J, gamma, Ntimes = 10, 1, 0.1, 100\n",
    "\n",
    "states_with_noise = Evolve_H3_with_noise(psi, J, gamma, t, Ntimes=Ntimes)\n",
    "states_no_noise = Evolve_H3_with_noise(psi, J, 0, t)\n",
    "\n",
    "'''We measure the fidelity with the ideal states'''\n",
    "fidelities = []\n",
    "for i in range(Ntimes):\n",
    "    fidelities.append(qt.metrics.fidelity(states_no_noise[i],states_with_noise[i]))\n",
    "    \n",
    "'''Plotting the fidelities'''\n",
    "plt.figure()\n",
    "plt.plot(np.linspace(0, t, Ntimes), fidelities)\n",
    "#plt.plot(np.linspace(0, t, Ntimes), np.exp(-2 * gamma * np.linspace(0, t, Ntimes)))\n",
    "plt.show()"
   ]
  },
  {
   "cell_type": "markdown",
   "id": "43c1427e",
   "metadata": {},
   "source": [
    "# Problem 5.3 \n",
    "Now consider the implementation of Grover's algorithm with just one iteration, using imperfect CZ and $\\mathrm{C^2Z}$ gates. Assume CZ and $\\mathrm{C^2Z}$ gates are implemented as discussed in Problem 4, using $H_2$ and $H_3$ in Problem 4 respectively, subject to dephasing as in Problem 4 throughout the gate duration. Calculate the ratio $J/\\gamma$ necessary to implement Grover's algorithm with an error probability $< 0.01$."
   ]
  },
  {
   "cell_type": "code",
   "execution_count": 3,
   "id": "05986d53",
   "metadata": {},
   "outputs": [],
   "source": [
    "#You got this! You will have to break the evolution in steps. Let me give you some useful functions\n",
    "\n",
    "'''Popular choices of gates can be found with in qutip.qip. Here is code to get single qubit gate'''\n",
    "Hadamard = qt.qip.operations.snot()\n",
    "X = 1j*qt.qip.operations.rx(np.pi)\n",
    "Z = 1j*qt.qip.operations.rz(np.pi)\n",
    "\n",
    "'''Here is a function that makes tensor products of an operator list'''\n",
    "def make_op(ops, sites, N): \n",
    "    '''N=number of qubits, ops = [op1, op2,...], sites=[site of op1, site of op2,..]'''\n",
    "    l = [qt.identity(dims=[2]) for i in range(N)]\n",
    "    for i in range(len(sites)): l[sites[i]] = ops[i]\n",
    "    m = l[0]\n",
    "    for i in range(1,N): \n",
    "        m = qt.tensor(m, l[i])\n",
    "    return m \n",
    "\n",
    "#Here is the operator H1X2Z3. Operator not relevant to the problem per-say but it illustrates \n",
    "#the function make_op\n",
    "HXZ = make_op([Hadamard,X,Z], [0,1,2], 3)\n",
    "\n",
    "#Here is the operator H1: \n",
    "HII = make_op([Hadamard], [0], 3)\n",
    "\n",
    "#Recall that for an operator O12, a density matrix evolves as O12*rho*O12^\\dagger. \n",
    "#For example, for the operator H1 on two qubits, using the two-qubit states we found above we have\n",
    "O12 = make_op([Hadamard], [0], 2)\n",
    "# O12*states_with_noise[-1]*O12"
   ]
  },
  {
   "cell_type": "code",
   "execution_count": 4,
   "id": "1a3012b3",
   "metadata": {},
   "outputs": [
    {
     "data": {
      "text/latex": [
       "Quantum object: dims = [[2, 2, 2], [2, 2, 2]], shape = (8, 8), type = oper, isherm = True\\begin{equation*}\\left(\\begin{array}{*{11}c}0.0 & 0.0 & 0.707 & 0.0 & 0.0 & 0.0 & 0.707 & 0.0\\\\0.0 & 0.0 & 0.0 & -0.707 & 0.0 & 0.0 & 0.0 & -0.707\\\\0.707 & 0.0 & 0.0 & 0.0 & 0.707 & 0.0 & 0.0 & 0.0\\\\0.0 & -0.707 & 0.0 & 0.0 & 0.0 & -0.707 & 0.0 & 0.0\\\\0.0 & 0.0 & 0.707 & 0.0 & 0.0 & 0.0 & -0.707 & 0.0\\\\0.0 & 0.0 & 0.0 & -0.707 & 0.0 & 0.0 & 0.0 & 0.707\\\\0.707 & 0.0 & 0.0 & 0.0 & -0.707 & 0.0 & 0.0 & 0.0\\\\0.0 & -0.707 & 0.0 & 0.0 & 0.0 & 0.707 & 0.0 & 0.0\\\\\\end{array}\\right)\\end{equation*}"
      ],
      "text/plain": [
       "Quantum object: dims = [[2, 2, 2], [2, 2, 2]], shape = (8, 8), type = oper, isherm = True\n",
       "Qobj data =\n",
       "[[ 0.          0.          0.70710678  0.          0.          0.\n",
       "   0.70710678  0.        ]\n",
       " [ 0.          0.          0.         -0.70710678  0.          0.\n",
       "   0.         -0.70710678]\n",
       " [ 0.70710678  0.          0.          0.          0.70710678  0.\n",
       "   0.          0.        ]\n",
       " [ 0.         -0.70710678  0.          0.          0.         -0.70710678\n",
       "   0.          0.        ]\n",
       " [ 0.          0.          0.70710678  0.          0.          0.\n",
       "  -0.70710678  0.        ]\n",
       " [ 0.          0.          0.         -0.70710678  0.          0.\n",
       "   0.          0.70710678]\n",
       " [ 0.70710678  0.          0.          0.         -0.70710678  0.\n",
       "   0.          0.        ]\n",
       " [ 0.         -0.70710678  0.          0.          0.          0.70710678\n",
       "   0.          0.        ]]"
      ]
     },
     "execution_count": 4,
     "metadata": {},
     "output_type": "execute_result"
    }
   ],
   "source": [
    "HXZ"
   ]
  },
  {
   "cell_type": "code",
   "execution_count": null,
   "id": "f69fe896",
   "metadata": {},
   "outputs": [],
   "source": []
  }
 ],
 "metadata": {
  "kernelspec": {
   "display_name": "Python 3 (ipykernel)",
   "language": "python",
   "name": "python3"
  },
  "language_info": {
   "codemirror_mode": {
    "name": "ipython",
    "version": 3
   },
   "file_extension": ".py",
   "mimetype": "text/x-python",
   "name": "python",
   "nbconvert_exporter": "python",
   "pygments_lexer": "ipython3",
   "version": "3.9.12"
  }
 },
 "nbformat": 4,
 "nbformat_minor": 5
}
