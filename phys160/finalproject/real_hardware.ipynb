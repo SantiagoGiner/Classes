{
 "cells": [
  {
   "cell_type": "markdown",
   "id": "f3a44400-bd24-4d6d-b33c-8ebd238d1776",
   "metadata": {},
   "source": [
    "# Quantum One-Way Repeater"
   ]
  },
  {
   "cell_type": "markdown",
   "id": "00dacdb2-2394-4653-a637-a2b6e2067f8b",
   "metadata": {},
   "source": [
    "## Executing on Real Hardware"
   ]
  },
  {
   "cell_type": "code",
   "execution_count": 1,
   "id": "633969bf-ce7e-4ce3-b445-3781fa2cafe4",
   "metadata": {},
   "outputs": [],
   "source": [
    "import numpy as np\n",
    "import matplotlib.pyplot as plt\n",
    "from qiskit import QuantumCircuit, QuantumRegister, ClassicalRegister, Aer, IBMQ, transpile\n",
    "from qiskit.visualization import plot_histogram\n",
    "from qiskit.quantum_info import state_fidelity, Statevector, DensityMatrix, Pauli"
   ]
  },
  {
   "cell_type": "code",
   "execution_count": 11,
   "id": "f58f4b06-8bdb-420c-bcd6-9b6ad8855ceb",
   "metadata": {},
   "outputs": [
    {
     "data": {
      "text/plain": [
       "<AccountProvider for IBMQ(hub='ibm-q', group='open', project='main')>"
      ]
     },
     "execution_count": 11,
     "metadata": {},
     "output_type": "execute_result"
    }
   ],
   "source": [
    "## now we need to add the following  line and replace <API_Token>\n",
    "IBMQ.load_account()"
   ]
  },
  {
   "cell_type": "code",
   "execution_count": 12,
   "id": "354a77e9-5ef8-40fd-8dc8-0c83f95e9030",
   "metadata": {},
   "outputs": [],
   "source": [
    "provider = IBMQ.providers()\n",
    "provider = IBMQ.get_provider(hub='ibm-q-education', group='harvard-uni-1', project='intro-to-quantum')"
   ]
  },
  {
   "cell_type": "code",
   "execution_count": 13,
   "id": "d145baf0-1ecd-4776-85e5-8d99786038eb",
   "metadata": {},
   "outputs": [],
   "source": [
    "# specify the backend\n",
    "backend = provider.get_backend(\"ibmq_jakarta\")"
   ]
  },
  {
   "cell_type": "code",
   "execution_count": 4,
   "id": "a9cb9c9a-84ce-46e3-9a36-1e1056d3fe04",
   "metadata": {},
   "outputs": [
    {
     "data": {
      "image/png": "[encoded data removed]",
      "text/plain": [
       "<Figure size 1290.6x505.68 with 1 Axes>"
      ]
     },
     "execution_count": 4,
     "metadata": {},
     "output_type": "execute_result"
    }
   ],
   "source": [
    "# Define circuit\n",
    "\n",
    "def make_circuit(theta, direction, meas_dir):\n",
    "    \"\"\"\n",
    "    theta, direction determine the initial messenger qubit; \n",
    "    meas_dir is either 'x' or 'z', determining the final measurement direction\n",
    "    \"\"\"\n",
    "    # Initialize the circuit\n",
    "    qr = QuantumRegister(7, 'q')\n",
    "    cr = ClassicalRegister(6, 'c')\n",
    "    circ = QuantumCircuit(qr, cr)\n",
    "    for i in range(1, 7):\n",
    "        circ.h(i)\n",
    "    circ.cz(1, 2)\n",
    "    circ.cz(1, 3)\n",
    "    circ.cz(2, 4)\n",
    "    circ.cz(3, 5)\n",
    "    circ.cz(3, 6)\n",
    "    circ.barrier()\n",
    "\n",
    "    # Initialize messenger qubit\n",
    "    if direction == 'z':\n",
    "        # Start in x eigenstate, rotate about z-axis\n",
    "        circ.h(0)\n",
    "        circ.p(theta, 0)\n",
    "    \n",
    "    if direction == 'x':\n",
    "        circ.h(0)\n",
    "        circ.p(-theta, 0)\n",
    "        circ.h(0)\n",
    "        \n",
    "    if direction == 'y':\n",
    "        circ.sdg(0); circ.h(0)\n",
    "        circ.p(theta, 0)\n",
    "        circ.h(0); circ.s(0)\n",
    "    \n",
    "    # Bell measurement between messenger and root qubits\n",
    "    circ.cx(0, 1)\n",
    "    circ.h(0)\n",
    "    # Store x1 in cbit 4, x2 in cbit 3\n",
    "    circ.measure(0, 3)\n",
    "    circ.measure(1, 4)\n",
    "    circ.barrier()\n",
    "\n",
    "    # Store x3 in cbit 2\n",
    "    circ.measure(2, 2)\n",
    "    circ.barrier()\n",
    "\n",
    "    # Measure 2nd level qubits of branch 2 in z\n",
    "    circ.measure(5, 1)\n",
    "    circ.measure(6, 0)\n",
    "\n",
    "    # Measure the encoded qubit into cbit 5\n",
    "    circ.barrier()\n",
    "    circ.h(3)\n",
    "    if meas_dir == 'z':\n",
    "        circ.measure(3, 5)\n",
    "    if meas_dir == 'x':\n",
    "        circ.h(3)\n",
    "        circ.measure(3, 5)\n",
    "    \n",
    "    return circ\n",
    "\n",
    "circ = make_circuit(np.pi / 2, 'z', 'z')\n",
    "circ.draw('mpl', filename='plots/circuit.png')"
   ]
  },
  {
   "cell_type": "code",
   "execution_count": 101,
   "id": "8b50ca1d-1fc5-480d-acb3-cb66a7e67c03",
   "metadata": {},
   "outputs": [],
   "source": [
    "# Get the fidelities for z-sweep\n",
    "\n",
    "# backend = Aer.get_backend('qasm_simulator')\n",
    "\n",
    "theta_list = np.linspace(0, np.pi, 20)\n",
    "jobs_z = {}\n",
    "\n",
    "for theta in theta_list:\n",
    "    circ_zmeas = make_circuit(theta, 'z', 'z')\n",
    "    circ_xmeas = make_circuit(theta, 'z', 'x')\n",
    "    \n",
    "    # Key is theta, measurement direction\n",
    "    jobs_z[(theta, 'z')] = backend.run(transpile(circ_zmeas, backend), shots=10000)\n",
    "    jobs_z[(theta, 'x')] = backend.run(transpile(circ_xmeas, backend), shots=10000)"
   ]
  },
  {
   "cell_type": "code",
   "execution_count": 15,
   "id": "6c5d8fc5-ca9b-426c-8442-65b264fc2486",
   "metadata": {},
   "outputs": [
    {
     "name": "stderr",
     "output_type": "stream",
     "text": [
      "<frozen importlib._bootstrap>:219: RuntimeWarning: scipy._lib.messagestream.MessageStream size changed, may indicate binary incompatibility. Expected 56 from C header, got 64 from PyObject\n"
     ]
    }
   ],
   "source": [
    "# Get the fidelities for x-sweep\n",
    "\n",
    "# backend = Aer.get_backend('qasm_simulator')\n",
    "\n",
    "theta_list = np.linspace(0, np.pi, 20)\n",
    "jobs_x = {}\n",
    "\n",
    "for theta in theta_list:\n",
    "    circ_zmeas = make_circuit(theta, 'x', 'z')\n",
    "    circ_xmeas = make_circuit(theta, 'x', 'x')\n",
    "    \n",
    "    # Key is theta, measurement direction\n",
    "    jobs_x[(theta, 'z')] = backend.run(transpile(circ_zmeas, backend), shots=10000)\n",
    "    jobs_x[(theta, 'x')] = backend.run(transpile(circ_xmeas, backend), shots=10000)"
   ]
  },
  {
   "cell_type": "code",
   "execution_count": 16,
   "id": "02cddf59-a3e8-419f-8c8d-9394c0be47ad",
   "metadata": {},
   "outputs": [],
   "source": [
    "# Get the fidelities for y-sweep\n",
    "\n",
    "# backend = Aer.get_backend('qasm_simulator')\n",
    "\n",
    "theta_list = np.linspace(0, np.pi, 20)\n",
    "jobs_y = {}\n",
    "\n",
    "for theta in theta_list:\n",
    "    circ_zmeas = make_circuit(theta, 'y', 'z')\n",
    "    circ_xmeas = make_circuit(theta, 'y', 'x')\n",
    "    \n",
    "    # Key is theta, measurement direction\n",
    "    jobs_y[(theta, 'z')] = backend.run(transpile(circ_zmeas, backend), shots=10000)\n",
    "    jobs_y[(theta, 'x')] = backend.run(transpile(circ_xmeas, backend), shots=10000)"
   ]
  },
  {
   "cell_type": "code",
   "execution_count": 102,
   "id": "ca1e837b-8ef8-4371-b95c-bfdeca709712",
   "metadata": {},
   "outputs": [
    {
     "data": {
      "image/png": "[encoded data removed]",
      "text/plain": [
       "<Figure size 504x360 with 1 Axes>"
      ]
     },
     "execution_count": 102,
     "metadata": {},
     "output_type": "execute_result"
    }
   ],
   "source": [
    "h_keys = ['00000', '00011', '01100', '01111', '10001', '10010', '11101', '11110']\n",
    "\n",
    "results_z = {key : job.result() for key, job in jobs_z.items()}\n",
    "fullcounts_z = {key : res.get_counts() for key, res in results_z.items()}\n",
    "\n",
    "counts_z_filtered = {}\n",
    "for key, counts in fullcounts_z.items():\n",
    "    counts_z_filtered[key] = {key[0] : val for key, val in counts.items() if key[1:] in h_keys}\n",
    "\n",
    "plot_histogram(counts_z_filtered[(theta_list[10], 'x')])"
   ]
  },
  {
   "cell_type": "code",
   "execution_count": 17,
   "id": "b2c78d42-7687-4bb5-9b59-65b02d5fc14c",
   "metadata": {},
   "outputs": [
    {
     "data": {
      "image/png": "[encoded data removed]",
      "text/plain": [
       "<Figure size 504x360 with 1 Axes>"
      ]
     },
     "execution_count": 17,
     "metadata": {},
     "output_type": "execute_result"
    }
   ],
   "source": [
    "h_keys = ['00000', '00011', '01100', '01111', '10001', '10010', '11101', '11110']\n",
    "\n",
    "results_x = {key : job.result() for key, job in jobs_x.items()}\n",
    "fullcounts_x = {key : res.get_counts() for key, res in results_x.items()}\n",
    "\n",
    "counts_x_filtered = {}\n",
    "for key, counts in fullcounts_x.items():\n",
    "    counts_x_filtered[key] = {key[0] : val for key, val in counts.items() if key[1:] in h_keys}\n",
    "\n",
    "plot_histogram(counts_x_filtered[(theta_list[10], 'x')])"
   ]
  },
  {
   "cell_type": "code",
   "execution_count": 18,
   "id": "e8092cf4-7394-414c-89c6-86b7a19d269d",
   "metadata": {},
   "outputs": [
    {
     "data": {
      "image/png": "[encoded data removed]",
      "text/plain": [
       "<Figure size 504x360 with 1 Axes>"
      ]
     },
     "execution_count": 18,
     "metadata": {},
     "output_type": "execute_result"
    }
   ],
   "source": [
    "h_keys = ['00000', '00011', '01100', '01111', '10001', '10010', '11101', '11110']\n",
    "\n",
    "results_y = {key : job.result() for key, job in jobs_y.items()}\n",
    "fullcounts_y = {key : res.get_counts() for key, res in results_y.items()}\n",
    "\n",
    "counts_y_filtered = {}\n",
    "for key, counts in fullcounts_y.items():\n",
    "    counts_y_filtered[key] = {key[0] : val for key, val in counts.items() if key[1:] in h_keys}\n",
    "\n",
    "plot_histogram(counts_y_filtered[(theta_list[10], 'x')])"
   ]
  },
  {
   "cell_type": "code",
   "execution_count": 103,
   "id": "ef04ce18-5d89-4dc5-8fd1-915741632ef7",
   "metadata": {},
   "outputs": [],
   "source": [
    "import pickle\n",
    "pickle.dump(counts_z_filtered, open('counts_z_filtered.p', 'wb'))"
   ]
  },
  {
   "cell_type": "code",
   "execution_count": 19,
   "id": "bede7313-9166-4901-8b38-9567061296c5",
   "metadata": {},
   "outputs": [],
   "source": [
    "import pickle\n",
    "pickle.dump(counts_x_filtered, open('counts_x_filtered.p', 'wb'))"
   ]
  },
  {
   "cell_type": "code",
   "execution_count": 20,
   "id": "b590c387-6795-44e7-9bef-ab632641eb0f",
   "metadata": {},
   "outputs": [],
   "source": [
    "import pickle\n",
    "pickle.dump(counts_y_filtered, open('counts_y_filtered.p', 'wb'))"
   ]
  },
  {
   "cell_type": "code",
   "execution_count": 21,
   "id": "c757f92f-69f6-4c00-9cd5-541052bed33b",
   "metadata": {},
   "outputs": [],
   "source": [
    "import pickle\n",
    "counts_z_filtered = pickle.load(open('counts_z_filtered.p', 'rb'))\n",
    "counts_x_filtered = pickle.load(open('counts_x_filtered.p', 'rb'))\n",
    "counts_y_filtered = pickle.load(open('counts_y_filtered.p', 'rb'))"
   ]
  },
  {
   "cell_type": "code",
   "execution_count": 22,
   "id": "0c2628aa-65da-4982-8caa-78295d383a75",
   "metadata": {},
   "outputs": [],
   "source": [
    "def reconstruct_state(z_counts, x_counts):\n",
    "    \"\"\"\n",
    "    Given histograms for x and z measurements, \n",
    "    reconstructs the state. \n",
    "    \"\"\"\n",
    "    def get_basis_ratio(counts):\n",
    "        if '0' not in counts.keys():\n",
    "            return (0, 1)\n",
    "        elif '1' not in counts.keys():\n",
    "            return (1, 0)\n",
    "        else:\n",
    "            total = counts['0'] + counts['1']\n",
    "            return (counts['0'] / total, counts['1'] / total)\n",
    "        \n",
    "    z_ratio = get_basis_ratio(z_counts)\n",
    "    z_exp = z_ratio[0] - z_ratio[1]\n",
    "    \n",
    "    x_ratio = get_basis_ratio(x_counts)\n",
    "    x_exp = x_ratio[0] - x_ratio[1]\n",
    "    \n",
    "    ysq = 1 - z_exp * z_exp - x_exp * x_exp\n",
    "    if ysq < 0:\n",
    "        y_exp = 0\n",
    "    else:\n",
    "        y_exp = np.sqrt(ysq)\n",
    "    \n",
    "    # Return position on the Bloch sphere\n",
    "    pos = np.array([x_exp, y_exp, z_exp])\n",
    "    return pos / np.linalg.norm(pos)\n",
    "\n",
    "def bloch_to_dm(vec):\n",
    "    \"\"\"\n",
    "    Takes in a 3-tuple corresponding to a position \n",
    "    on the Bloch sphere and returns a density matrix.\n",
    "    \"\"\"\n",
    "    identity = np.array([[1, 0], [0, 1]])\n",
    "    sigmax = np.array([[0, 1], [1, 0]])\n",
    "    sigmay = np.array([[0, -1j], [1j, 0]])\n",
    "    sigmaz = np.array([[1, 0], [0, -1]])\n",
    "    return 1/2 * (identity + vec[0] * sigmax + vec[1] * sigmay + vec[2] * sigmaz)\n",
    "\n",
    "def state_vec(theta, direction):\n",
    "    circ = QuantumCircuit(1)\n",
    "    if direction == 'z':\n",
    "        circ.h(0)\n",
    "        circ.p(theta, 0)\n",
    "    if direction == 'x':\n",
    "        circ.h(0)\n",
    "        circ.p(-theta, 0)\n",
    "        circ.h(0)\n",
    "    if direction == 'y':\n",
    "        circ.sdg(0); circ.h(0)\n",
    "        circ.p(theta, 0)\n",
    "        circ.h(0); circ.s(0)\n",
    "    return Statevector(circ)\n",
    "\n",
    "def get_fidelity(theta, direction):\n",
    "    if direction == 'z':\n",
    "        meas_state = reconstruct_state(counts_z_filtered[theta, 'z'], counts_z_filtered[theta, 'x'])\n",
    "    if direction == 'x':\n",
    "        meas_state = reconstruct_state(counts_x_filtered[theta, 'z'], counts_x_filtered[theta, 'x'])\n",
    "    if direction == 'y':\n",
    "        meas_state = reconstruct_state(counts_y_filtered[theta, 'z'], counts_y_filtered[theta, 'x'])\n",
    "    meas_dm = DensityMatrix(bloch_to_dm(meas_state))\n",
    "    true_state = state_vec(theta, direction)\n",
    "    return state_fidelity(meas_dm, true_state)"
   ]
  },
  {
   "cell_type": "code",
   "execution_count": 36,
   "id": "3e573378-b23f-4dc5-9995-0db53d27cf87",
   "metadata": {},
   "outputs": [
    {
     "data": {
      "image/png": "[encoded data removed]",
      "text/plain": [
       "<Figure size 432x432 with 1 Axes>"
      ]
     },
     "metadata": {
      "needs_background": "light"
     },
     "output_type": "display_data"
    }
   ],
   "source": [
    "theta_list = np.linspace(0, np.pi, 20)\n",
    "fidelities_z = {theta : get_fidelity(theta, 'z') for theta in theta_list}\n",
    "plt.scatter(theta_list, fidelities_z.values())\n",
    "plt.axhline(y=0.666, color='grey', alpha=0.6)\n",
    "plt.ylim((0, 1))\n",
    "plt.ylabel(\"Fidelity\")\n",
    "plt.xlabel(r\"$\\theta$\")\n",
    "plt.savefig(\"plots/zsweep.png\")\n",
    "plt.show()"
   ]
  },
  {
   "cell_type": "code",
   "execution_count": 37,
   "id": "e40cfdda-5d1f-489f-bf02-f95bc6f1f74f",
   "metadata": {},
   "outputs": [
    {
     "data": {
      "image/png": "[encoded data removed]",
      "text/plain": [
       "<Figure size 432x432 with 1 Axes>"
      ]
     },
     "metadata": {
      "needs_background": "light"
     },
     "output_type": "display_data"
    }
   ],
   "source": [
    "fidelities_x = {theta : get_fidelity(theta, 'x') for theta in theta_list}\n",
    "plt.scatter(theta_list, fidelities_x.values())\n",
    "plt.axhline(y=0.666, color='grey', alpha=0.6)\n",
    "plt.ylim((0, 1))\n",
    "plt.ylabel(\"Fidelity\")\n",
    "plt.xlabel(r\"$\\theta$\")\n",
    "plt.savefig(\"plots/xsweep.png\")\n",
    "plt.show()"
   ]
  },
  {
   "cell_type": "code",
   "execution_count": 35,
   "id": "35506345-8c7e-4fbb-92ea-fd4de8ffff08",
   "metadata": {},
   "outputs": [
    {
     "data": {
      "image/png": "[encoded data removed]",
      "text/plain": [
       "<Figure size 432x432 with 1 Axes>"
      ]
     },
     "metadata": {
      "needs_background": "light"
     },
     "output_type": "display_data"
    }
   ],
   "source": [
    "fidelities_y = {theta : get_fidelity(theta, 'y') for theta in theta_list}\n",
    "plt.scatter(theta_list, fidelities_y.values())\n",
    "plt.axhline(y=0.666, color='grey', alpha=0.6)\n",
    "plt.ylim((0, 1))\n",
    "plt.ylabel(\"Fidelity\")\n",
    "plt.xlabel(r\"$\\theta$\")\n",
    "plt.savefig(\"plots/ysweep.png\")\n",
    "plt.show()"
   ]
  },
  {
   "cell_type": "code",
   "execution_count": null,
   "id": "320e393f-482f-4967-a380-a8f0e4ddd3f8",
   "metadata": {},
   "outputs": [],
   "source": []
  }
 ],
 "metadata": {
  "kernelspec": {
   "display_name": "Qiskit v0.35.0 (ipykernel)",
   "language": "python",
   "name": "python3"
  },
  "language_info": {
   "codemirror_mode": {
    "name": "ipython",
    "version": 3
   },
   "file_extension": ".py",
   "mimetype": "text/x-python",
   "name": "python",
   "nbconvert_exporter": "python",
   "pygments_lexer": "ipython3",
   "version": "3.8.13"
  },
  "widgets": {
   "application/vnd.jupyter.widget-state+json": {
    "state": {},
    "version_major": 2,
    "version_minor": 0
   }
  }
 },
 "nbformat": 4,
 "nbformat_minor": 5
}
